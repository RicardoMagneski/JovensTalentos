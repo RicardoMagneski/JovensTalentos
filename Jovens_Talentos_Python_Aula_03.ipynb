{
  "nbformat": 4,
  "nbformat_minor": 0,
  "metadata": {
    "colab": {
      "provenance": []
    },
    "kernelspec": {
      "name": "python3",
      "display_name": "Python 3"
    },
    "language_info": {
      "name": "python"
    }
  },
  "cells": [
    {
      "cell_type": "code",
      "execution_count": 1,
      "metadata": {
        "id": "vZNKAWI_2gqs"
      },
      "outputs": [],
      "source": [
        "import pandas as pd\n",
        "import sqlite3 as sql"
      ]
    },
    {
      "cell_type": "code",
      "source": [
        "conexao_normalizada = sql.connect('globalstore_normalizada.db')"
      ],
      "metadata": {
        "id": "bCNBbArI9k7v"
      },
      "execution_count": 2,
      "outputs": []
    },
    {
      "cell_type": "code",
      "source": [
        "with conexao_normalizada:\n",
        "    products = pd.read_sql(\n",
        "        con = conexao_normalizada, \n",
        "        sql=\"select * from products\"\n",
        "    )"
      ],
      "metadata": {
        "id": "U9ciSv2K-PJI"
      },
      "execution_count": 3,
      "outputs": []
    },
    {
      "cell_type": "code",
      "source": [
        "products"
      ],
      "metadata": {
        "id": "D8wBef_n-o83"
      },
      "execution_count": null,
      "outputs": []
    },
    {
      "cell_type": "code",
      "source": [
        "products['product_name_v1'] = products['product_name'].apply(lambda x : x.replace(', ', ' - '))\n",
        "products"
      ],
      "metadata": {
        "id": "w22_XpMA3jFi"
      },
      "execution_count": null,
      "outputs": []
    },
    {
      "cell_type": "code",
      "source": [
        "products['product_name_v2'] = products['product_name_v1'].apply(lambda x : x.split(' - '))\n",
        "products"
      ],
      "metadata": {
        "id": "J_iL3Z4h4LOb"
      },
      "execution_count": null,
      "outputs": []
    },
    {
      "cell_type": "code",
      "source": [
        "products['product_name_prepared'] = products.apply(\n",
        "    lambda x : x['product_id'] + ' - ' + x['product_name_v2'][0] + ' (' + x['product_name_v2'][1] + ')'\n",
        "        if len(x['product_name_v2']) > 1\n",
        "        else x['product_id'] + ' - ' + x['product_name_v1'], axis = 1)\n",
        "products"
      ],
      "metadata": {
        "id": "ykp5C4M44wAD"
      },
      "execution_count": null,
      "outputs": []
    },
    {
      "cell_type": "code",
      "source": [
        "import re"
      ],
      "metadata": {
        "id": "z5ne5aXlBQhc"
      },
      "execution_count": null,
      "outputs": []
    },
    {
      "cell_type": "code",
      "source": [
        "products['numeros'] = products['product_name'].apply(lambda x : re.findall('[0-9]+', x))\n",
        "products"
      ],
      "metadata": {
        "id": "tDf4NvkCBSOL"
      },
      "execution_count": null,
      "outputs": []
    },
    {
      "cell_type": "markdown",
      "source": [
        "## Discretização de Variáveis"
      ],
      "metadata": {
        "id": "3-6l_ic-FNjQ"
      }
    },
    {
      "cell_type": "code",
      "source": [
        "globalstore = pd.read_csv('globalstore.csv')\n",
        "globalstore"
      ],
      "metadata": {
        "id": "h3GPZ_lW6qbM"
      },
      "execution_count": null,
      "outputs": []
    },
    {
      "cell_type": "code",
      "source": [
        "globalstore['lucro'] = globalstore['Profit'].apply(lambda x : 1 if x > 0 else 0)"
      ],
      "metadata": {
        "id": "oCKDit81AKpu"
      },
      "execution_count": null,
      "outputs": []
    },
    {
      "cell_type": "code",
      "source": [
        "globalstore['faixa'] = pd.cut(globalstore['Sales'], bins=4)"
      ],
      "metadata": {
        "id": "de7OrbyEFTQ9"
      },
      "execution_count": null,
      "outputs": []
    },
    {
      "cell_type": "code",
      "source": [
        "globalstore['Order Date'] = globalstore['Order Date'].astype('datetime64[ns]')\n",
        "globalstore['Ship Date'] = globalstore['Ship Date'].astype('datetime64[ns]')\n",
        "globalstore['delivery_days'] = (globalstore['Ship Date'] - globalstore['Order Date']).dt.days + 1"
      ],
      "metadata": {
        "id": "6dAAwC3OAYH4"
      },
      "execution_count": null,
      "outputs": []
    },
    {
      "cell_type": "code",
      "source": [
        "globalstore"
      ],
      "metadata": {
        "id": "s-aBg_gBD0c2"
      },
      "execution_count": null,
      "outputs": []
    },
    {
      "cell_type": "markdown",
      "source": [
        "Atividades:\n",
        "\n",
        "Aplicar a discretização em outras 3 situações na base globalstore.\n",
        "\n",
        "Aplicar 2 outras situações para tratamento do nome dos produtos na base globalstore.\n",
        "\n",
        "Normalizar novamente da base com o tratamento de strings e a discritização das variáveis e salvar em banco de dados relacional."
      ],
      "metadata": {
        "id": "snmA7mcUUIgH"
      }
    },
    {
      "cell_type": "code",
      "source": [],
      "metadata": {
        "id": "ERrazoBGUFWk"
      },
      "execution_count": null,
      "outputs": []
    }
  ]
}