{
 "cells": [
  {
   "cell_type": "markdown",
   "id": "8a154cf7",
   "metadata": {},
   "source": [
    "### Exercício 1"
   ]
  },
  {
   "cell_type": "code",
   "execution_count": 6,
   "id": "2a1b066e",
   "metadata": {},
   "outputs": [],
   "source": [
    "def substring_rep(input):\n",
    "\n",
    "    if not isinstance(input, str):\n",
    "        print('Input não é string')\n",
    "        return\n",
    "\n",
    "    Dict = {}\n",
    "    substring = ''\n",
    "\n",
    "    for x in range(len(input)):\n",
    "        \n",
    "        substring += input[x]        \n",
    "        substring_repeat = 0        \n",
    "\n",
    "        for y in range(len(input)):            \n",
    "            if substring == input[y:y+x+1]:            \n",
    "                substring_repeat += 1\n",
    "            \n",
    "        Dict.update({substring_repeat:substring})\n",
    "    \n",
    "    return(Dict)"
   ]
  },
  {
   "cell_type": "code",
   "execution_count": 7,
   "id": "3fca9a18",
   "metadata": {},
   "outputs": [
    {
     "data": {
      "text/plain": [
       "{1: 'abcccc'}"
      ]
     },
     "execution_count": 7,
     "metadata": {},
     "output_type": "execute_result"
    }
   ],
   "source": [
    "substring_rep('abcccc')"
   ]
  },
  {
   "cell_type": "code",
   "execution_count": null,
   "id": "60fa7e4d",
   "metadata": {},
   "outputs": [],
   "source": []
  },
  {
   "cell_type": "code",
   "execution_count": 18,
   "id": "58c9f0ba",
   "metadata": {},
   "outputs": [],
   "source": [
    "def substringmaxima(s: str):\n",
    "    posicao=0\n",
    "    maximo=0\n",
    "    for i in range(len(s)):\n",
    "        #print (i)\n",
    "        pedaco = s[posicao:i+1]\n",
    "        #print (pedaco)\n",
    "        if(len(pedaco) == len(set(pedaco))): #sets não têm elementos repetidos!\n",
    "            maximo = max(len(pedaco),maximo)\n",
    "        else:\n",
    "            posicao += 1\n",
    "    return (maximo,pedaco) "
   ]
  },
  {
   "cell_type": "code",
   "execution_count": 19,
   "id": "1470b50a",
   "metadata": {},
   "outputs": [
    {
     "data": {
      "text/plain": [
       "(5, 'agbdn')"
      ]
     },
     "execution_count": 19,
     "metadata": {},
     "output_type": "execute_result"
    }
   ],
   "source": [
    "substringmaxima('aabaaaagbdn')"
   ]
  },
  {
   "cell_type": "code",
   "execution_count": 21,
   "id": "89fc4d79",
   "metadata": {},
   "outputs": [
    {
     "name": "stdout",
     "output_type": "stream",
     "text": [
      "digite um número3.6\n",
      "Você não passou um número válido\n"
     ]
    }
   ],
   "source": [
    "numero = input(\"digite um número\")\n",
    "#converti para inteiro porque pede para \"ler um número inteiro\", seja float ou seja string\n",
    "try:\n",
    "    print(f\"Número: {int(numero)}\")\n",
    "    print(f\"Antecessor: {int(numero) - 1}\")\n",
    "    print(f\"Sucessor: {int(numero) + 1}\")\n",
    "except:\n",
    "    print(\"Você não passou um número válido\")"
   ]
  },
  {
   "cell_type": "markdown",
   "id": "733cface",
   "metadata": {},
   "source": [
    "### Exercício 2"
   ]
  },
  {
   "cell_type": "code",
   "execution_count": 3,
   "id": "a2cffb19",
   "metadata": {},
   "outputs": [],
   "source": [
    "def antecessorsucessor(entrada):\n",
    "    #num = int(input('Digite um número:'))\n",
    "    num = int(entrada)\n",
    "    su = num + 1\n",
    "    an = num - 1\n",
    "    return(num, an, su)"
   ]
  },
  {
   "cell_type": "code",
   "execution_count": 4,
   "id": "5bfe3ec4",
   "metadata": {},
   "outputs": [
    {
     "data": {
      "text/plain": [
       "(3, 2, 4)"
      ]
     },
     "execution_count": 4,
     "metadata": {},
     "output_type": "execute_result"
    }
   ],
   "source": [
    "antecessorsucessor(3)"
   ]
  },
  {
   "cell_type": "code",
   "execution_count": 5,
   "id": "a2cb5dd7",
   "metadata": {},
   "outputs": [
    {
     "data": {
      "text/plain": [
       "(3, 2, 4)"
      ]
     },
     "execution_count": 5,
     "metadata": {},
     "output_type": "execute_result"
    }
   ],
   "source": [
    "antecessorsucessor('3') #str"
   ]
  },
  {
   "cell_type": "code",
   "execution_count": 6,
   "id": "5d5cbcff",
   "metadata": {},
   "outputs": [
    {
     "data": {
      "text/plain": [
       "(3, 2, 4)"
      ]
     },
     "execution_count": 6,
     "metadata": {},
     "output_type": "execute_result"
    }
   ],
   "source": [
    "antecessorsucessor(3.6) #float"
   ]
  },
  {
   "cell_type": "code",
   "execution_count": 22,
   "id": "7d2d2c58",
   "metadata": {},
   "outputs": [
    {
     "name": "stdout",
     "output_type": "stream",
     "text": [
      "3.6 2 4\n"
     ]
    }
   ],
   "source": [
    "def valores(x):\n",
    "    x = int(float(x))\n",
    "    return x-1, x+1\n",
    "valor = 3.6\n",
    "ant,pos = valores(valor)\n",
    "print(valor, ant, pos)"
   ]
  },
  {
   "cell_type": "code",
   "execution_count": 23,
   "id": "82bb3601",
   "metadata": {},
   "outputs": [
    {
     "name": "stdout",
     "output_type": "stream",
     "text": [
      "informe um número3.6\n",
      "         numero_inteiro  numero_antecessor  numero_sucessor\n",
      "numero:               3                  2                4\n"
     ]
    }
   ],
   "source": [
    "import pandas as pd\n",
    "import numpy as np\n",
    "from math import floor\n",
    "x = input('informe um número' )\n",
    "y = {'numero_inteiro':[x]}\n",
    "\n",
    "df = pd.DataFrame(y)\n",
    "df = df.set_index([pd.Index(['numero:'])])\n",
    "\n",
    "df['numero_inteiro'] = floor(df['numero_inteiro'])\n",
    "\n",
    "df['numero_antecessor'] = floor(df['numero_inteiro']-1)\n",
    "df['numero_sucessor'] = floor(df['numero_inteiro']+1)\n",
    "\n",
    "print(df[['numero_inteiro','numero_antecessor','numero_sucessor']])"
   ]
  },
  {
   "cell_type": "markdown",
   "id": "dcb87fc8",
   "metadata": {},
   "source": [
    "### Exercício 3"
   ]
  },
  {
   "cell_type": "code",
   "execution_count": 28,
   "id": "24d25293",
   "metadata": {},
   "outputs": [],
   "source": [
    "def most_frequent(s):\n",
    "    # Criar dicionário com frequência dos itens\n",
    "    hist = {} #dicionário\n",
    "    for x in s:\n",
    "        hist[x] = hist.get(x, 0) + 1\n",
    "        #print(hist)\n",
    "\n",
    "    t = [] # lista\n",
    "    for x, freq in hist.items():\n",
    "        t.append((freq, x))\n",
    "    #print(t)\n",
    "    \n",
    "    t.sort(reverse=True)\n",
    "\n",
    "    resposta = []\n",
    "    for freq, x in t:\n",
    "        resposta.append(x)\n",
    "    #print(resposta)\n",
    "\n",
    "    return resposta"
   ]
  },
  {
   "cell_type": "code",
   "execution_count": 31,
   "id": "624f6cb3",
   "metadata": {},
   "outputs": [
    {
     "name": "stdout",
     "output_type": "stream",
     "text": [
      "Infome uma string:aaaabc\n",
      "['c', 'b', 'a']\n"
     ]
    }
   ],
   "source": [
    "def most_frequent(s: str):\n",
    "    s = set(s)\n",
    "    lista = list(s)\n",
    "    lista.sort(reverse=True)\n",
    "    return print(lista)\n",
    "sValor = input('Infome uma string:')\n",
    "most_frequent(sValor);"
   ]
  },
  {
   "cell_type": "code",
   "execution_count": 29,
   "id": "810ffc69",
   "metadata": {},
   "outputs": [
    {
     "data": {
      "text/plain": [
       "['g', 'b', 'a']"
      ]
     },
     "execution_count": 29,
     "metadata": {},
     "output_type": "execute_result"
    }
   ],
   "source": [
    "most_frequent('abbbgggggg')"
   ]
  },
  {
   "cell_type": "markdown",
   "id": "f65893ea",
   "metadata": {},
   "source": [
    "### Exercício 4"
   ]
  },
  {
   "cell_type": "code",
   "execution_count": 43,
   "id": "1382d468",
   "metadata": {},
   "outputs": [
    {
     "name": "stdout",
     "output_type": "stream",
     "text": [
      "6\n"
     ]
    }
   ],
   "source": [
    "def digit_1_counter(input):\n",
    "    counter = 0\n",
    "    for x in reversed(range(input+1)): \n",
    "        #print(x)\n",
    "        for y in range(len(str(x))):\n",
    "            if str(x)[y] == '1':\n",
    "                counter += 1            \n",
    "    print(counter)\n",
    "digit_1_counter(13)"
   ]
  },
  {
   "cell_type": "code",
   "execution_count": 44,
   "id": "b0e228f5",
   "metadata": {},
   "outputs": [
    {
     "name": "stdout",
     "output_type": "stream",
     "text": [
      "74\n"
     ]
    }
   ],
   "source": [
    "digit_1_counter(139)"
   ]
  },
  {
   "cell_type": "code",
   "execution_count": 45,
   "id": "8ced2af4",
   "metadata": {},
   "outputs": [],
   "source": [
    "def conteum(n: int):\n",
    "        m = len(str(n))\n",
    "        if m == 1:\n",
    "            return 0 if n == 0 else 1 # já sabemos a resposta nesse caso\n",
    "        \n",
    "        dezena = 10 ** (m - 1)\n",
    "        #print(dezena)\n",
    "        num_digits_dezena = (m - 1) * 10 ** (m - 1)\n",
    "        #print(num_digits_dezena)\n",
    "        num_ones_dezena = num_digits_dezena // 10\n",
    "        #print(num_ones_dezena)\n",
    "        primeiro_digit = n // (10 ** (m-1))\n",
    "        #print(primeiro_digit)\n",
    "        resto = n % (10 ** (m-1))\n",
    "        #print(resto)\n",
    "        #print(primeiro_digit + (10 ** (m - 1)))\n",
    "        #print(conteum(resto))\n",
    "        if primeiro_digit > 1:\n",
    "            return num_ones_dezena * primeiro_digit + (10 ** (m - 1)) + conteum(resto)\n",
    "        else:\n",
    "            return num_ones_dezena + conteum(resto) + (resto + 1)"
   ]
  },
  {
   "cell_type": "code",
   "execution_count": 46,
   "id": "ee5e7474",
   "metadata": {},
   "outputs": [
    {
     "data": {
      "text/plain": [
       "74"
      ]
     },
     "execution_count": 46,
     "metadata": {},
     "output_type": "execute_result"
    }
   ],
   "source": [
    "conteum(139)"
   ]
  },
  {
   "cell_type": "markdown",
   "id": "6f1054b7",
   "metadata": {},
   "source": [
    "### Exercício 5"
   ]
  },
  {
   "cell_type": "code",
   "execution_count": 47,
   "id": "7e602eeb",
   "metadata": {},
   "outputs": [
    {
     "name": "stdout",
     "output_type": "stream",
     "text": [
      "Informe o tamanho da linha: 3\n",
      "Informe o tamanho da coluna: 4\n",
      "[[572 419 728 359]\n",
      " [131  42 215 661]\n",
      " [456 130 233 764]]\n"
     ]
    }
   ],
   "source": [
    "import numpy as np\n",
    "lin = input(\"Informe o tamanho da linha: \")\n",
    "col = input(\"Informe o tamanho da coluna: \")\n",
    "aleatorios = np.random.randint(1000, size=(int(lin), int(col)))\n",
    "print(aleatorios)"
   ]
  },
  {
   "cell_type": "code",
   "execution_count": 50,
   "id": "30922187",
   "metadata": {},
   "outputs": [
    {
     "name": "stdout",
     "output_type": "stream",
     "text": [
      "Digite a dimensão n da matriz: 3\n",
      "Digite a dimensão m da matriz: 4\n",
      "[[21, 16, 14, 25], [16, 37, 8, 15], [43, 17, 40, 35]]\n"
     ]
    }
   ],
   "source": [
    "import random\n",
    "n = int(input('Digite a dimensão n da matriz: ')) \n",
    "m = int(input('Digite a dimensão m da matriz: ')) \n",
    "matriz = []\n",
    "for i in range(n):\n",
    "    linha = []\n",
    "    for j in range(m):\n",
    "        linha.append(random.randint(5, 50)) # random.randint(start, stop)\n",
    "    matriz.append(linha)\n",
    "print(matriz)"
   ]
  },
  {
   "cell_type": "markdown",
   "id": "6fa80724",
   "metadata": {},
   "source": [
    "### Exercício 7"
   ]
  },
  {
   "cell_type": "code",
   "execution_count": 52,
   "id": "7a3db42f",
   "metadata": {},
   "outputs": [
    {
     "name": "stdout",
     "output_type": "stream",
     "text": [
      "Idade: 21\n",
      "Dias até próximo niver: 35\n"
     ]
    }
   ],
   "source": [
    "import datetime\n",
    "from datetime import date\n",
    "\n",
    "def calculate_age(born):\n",
    "    today = date.today()\n",
    "    return today.year - born.year - ((today.month, today.day) < (born.month, born.day))\n",
    "\n",
    "def days_until_birthday(birthday):\n",
    "    \"\"\"How long until my next birthday?\"\"\"\n",
    "    today = datetime.datetime.today()\n",
    "    # when is my birthday this year?\n",
    "    next_birthday = datetime.datetime(today.year, birthday.month, birthday.day)\n",
    "\n",
    "    # if it has gone by, when will it be next year\n",
    "    if today > next_birthday:\n",
    "        next_birthday = datetime.datetime(today.year+1, birthday.month, birthday.day)\n",
    "\n",
    "    # subtraction on datetime objects returns a timedelta object\n",
    "    delta = next_birthday - today\n",
    "    return delta.days\n",
    "\n",
    "#birthday = datetime.datetime.now()\n",
    "birthday = datetime.datetime(2001,5,3)\n",
    "print('Idade:', end=' ')\n",
    "print(calculate_age(birthday))\n",
    "print('Dias até próximo niver:', end=' ')\n",
    "print(days_until_birthday(birthday))"
   ]
  },
  {
   "cell_type": "code",
   "execution_count": 55,
   "id": "b9108519",
   "metadata": {},
   "outputs": [
    {
     "data": {
      "text/plain": [
       "datetime.datetime(2023, 3, 28, 15, 28, 45, 666052)"
      ]
     },
     "execution_count": 55,
     "metadata": {},
     "output_type": "execute_result"
    }
   ],
   "source": [
    "import datetime\n",
    "from datetime import date\n",
    "today = datetime.datetime.today()\n",
    "today"
   ]
  },
  {
   "cell_type": "markdown",
   "id": "7a82b1be",
   "metadata": {},
   "source": [
    "### Exercício 8 - dúvida migração"
   ]
  },
  {
   "cell_type": "code",
   "execution_count": 25,
   "id": "7d9b907d",
   "metadata": {},
   "outputs": [
    {
     "data": {
      "text/html": [
       "<div>\n",
       "<style scoped>\n",
       "    .dataframe tbody tr th:only-of-type {\n",
       "        vertical-align: middle;\n",
       "    }\n",
       "\n",
       "    .dataframe tbody tr th {\n",
       "        vertical-align: top;\n",
       "    }\n",
       "\n",
       "    .dataframe thead th {\n",
       "        text-align: right;\n",
       "    }\n",
       "</style>\n",
       "<table border=\"1\" class=\"dataframe\">\n",
       "  <thead>\n",
       "    <tr style=\"text-align: right;\">\n",
       "      <th></th>\n",
       "      <th>Produto</th>\n",
       "      <th>Preço</th>\n",
       "    </tr>\n",
       "  </thead>\n",
       "  <tbody>\n",
       "    <tr>\n",
       "      <th>0</th>\n",
       "      <td>Suco</td>\n",
       "      <td>14.9</td>\n",
       "    </tr>\n",
       "    <tr>\n",
       "      <th>1</th>\n",
       "      <td>Carne</td>\n",
       "      <td>44,56</td>\n",
       "    </tr>\n",
       "    <tr>\n",
       "      <th>2</th>\n",
       "      <td>D'ajuda</td>\n",
       "      <td>3.9</td>\n",
       "    </tr>\n",
       "  </tbody>\n",
       "</table>\n",
       "</div>"
      ],
      "text/plain": [
       "   Produto  Preço\n",
       "0     Suco   14.9\n",
       "1    Carne  44,56\n",
       "2  D'ajuda    3.9"
      ]
     },
     "execution_count": 25,
     "metadata": {},
     "output_type": "execute_result"
    }
   ],
   "source": [
    "import pandas as pd\n",
    "base = pd.read_csv('/Users/anamees/Desktop/migracao.csv', delimiter=',')\n",
    "base"
   ]
  },
  {
   "cell_type": "code",
   "execution_count": 57,
   "id": "ed0998b3",
   "metadata": {},
   "outputs": [
    {
     "data": {
      "text/html": [
       "<div>\n",
       "<style scoped>\n",
       "    .dataframe tbody tr th:only-of-type {\n",
       "        vertical-align: middle;\n",
       "    }\n",
       "\n",
       "    .dataframe tbody tr th {\n",
       "        vertical-align: top;\n",
       "    }\n",
       "\n",
       "    .dataframe thead th {\n",
       "        text-align: right;\n",
       "    }\n",
       "</style>\n",
       "<table border=\"1\" class=\"dataframe\">\n",
       "  <thead>\n",
       "    <tr style=\"text-align: right;\">\n",
       "      <th></th>\n",
       "      <th>Produto,Preço</th>\n",
       "    </tr>\n",
       "  </thead>\n",
       "  <tbody>\n",
       "    <tr>\n",
       "      <th>0</th>\n",
       "      <td>Suco,14.9</td>\n",
       "    </tr>\n",
       "    <tr>\n",
       "      <th>1</th>\n",
       "      <td>Carne,\"44,56\"</td>\n",
       "    </tr>\n",
       "    <tr>\n",
       "      <th>2</th>\n",
       "      <td>D'ajuda,3.9</td>\n",
       "    </tr>\n",
       "  </tbody>\n",
       "</table>\n",
       "</div>"
      ],
      "text/plain": [
       "   Produto,Preço\n",
       "0      Suco,14.9\n",
       "1  Carne,\"44,56\"\n",
       "2    D'ajuda,3.9"
      ]
     },
     "execution_count": 57,
     "metadata": {},
     "output_type": "execute_result"
    }
   ],
   "source": [
    "base = pd.read_csv('/Users/anamees/Desktop/migracao.csv', delimiter=';')\n",
    "base"
   ]
  },
  {
   "cell_type": "code",
   "execution_count": null,
   "id": "ee0d9754",
   "metadata": {},
   "outputs": [],
   "source": []
  }
 ],
 "metadata": {
  "kernelspec": {
   "display_name": "Python 3 (ipykernel)",
   "language": "python",
   "name": "python3"
  },
  "language_info": {
   "codemirror_mode": {
    "name": "ipython",
    "version": 3
   },
   "file_extension": ".py",
   "mimetype": "text/x-python",
   "name": "python",
   "nbconvert_exporter": "python",
   "pygments_lexer": "ipython3",
   "version": "3.9.6"
  }
 },
 "nbformat": 4,
 "nbformat_minor": 5
}
