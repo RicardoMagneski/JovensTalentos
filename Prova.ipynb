{
 "cells": [
  {
   "cell_type": "markdown",
   "id": "25b9bfce",
   "metadata": {},
   "source": [
    "#### Regras:\n",
    "* A avaliação é individual\n",
    "* O prazo para entrega é 29/03, 15h30 (final da aula)\n",
    "* Não utilize internet além das documentações oficiais do Python\n",
    "* Ao completar envie para ana.mees@ipm.com.br\n",
    "* Boa sorte! Os resultados também irão nos guiar nas próximas aulas"
   ]
  },
  {
   "cell_type": "markdown",
   "id": "e4e71231",
   "metadata": {},
   "source": [
    "### Questão 1 - Fermat"
   ]
  },
  {
   "cell_type": "code",
   "execution_count": null,
   "id": "322900b8",
   "metadata": {},
   "outputs": [],
   "source": []
  },
  {
   "cell_type": "markdown",
   "id": "3a2e65d2",
   "metadata": {},
   "source": [
    "### Questão 2 - Manipulação com listas"
   ]
  },
  {
   "cell_type": "code",
   "execution_count": null,
   "id": "2027e77d",
   "metadata": {},
   "outputs": [],
   "source": []
  },
  {
   "cell_type": "markdown",
   "id": "53cb9bf8",
   "metadata": {},
   "source": [
    "### Questão 3 - Par inverso"
   ]
  },
  {
   "cell_type": "code",
   "execution_count": null,
   "id": "647f9405",
   "metadata": {},
   "outputs": [],
   "source": []
  },
  {
   "cell_type": "markdown",
   "id": "ae717db4",
   "metadata": {},
   "source": [
    "### Questão 4 - Nome na vertical"
   ]
  },
  {
   "cell_type": "code",
   "execution_count": null,
   "id": "8c8c6eb0",
   "metadata": {},
   "outputs": [],
   "source": []
  },
  {
   "cell_type": "markdown",
   "id": "28a50b8e",
   "metadata": {},
   "source": [
    "### Questão 5 - Número de telefone"
   ]
  },
  {
   "cell_type": "code",
   "execution_count": null,
   "id": "b8f77728",
   "metadata": {},
   "outputs": [],
   "source": []
  },
  {
   "cell_type": "markdown",
   "id": "c8893854",
   "metadata": {},
   "source": [
    "### Questão 6 - Gerador automático de senhas"
   ]
  },
  {
   "cell_type": "code",
   "execution_count": null,
   "id": "61f6d419",
   "metadata": {},
   "outputs": [],
   "source": []
  },
  {
   "cell_type": "markdown",
   "id": "5fa63c2e",
   "metadata": {},
   "source": [
    "### Questão 7 - Dataframes!"
   ]
  },
  {
   "cell_type": "code",
   "execution_count": 7,
   "id": "d9588c5e",
   "metadata": {},
   "outputs": [
    {
     "data": {
      "text/html": [
       "<div>\n",
       "<style scoped>\n",
       "    .dataframe tbody tr th:only-of-type {\n",
       "        vertical-align: middle;\n",
       "    }\n",
       "\n",
       "    .dataframe tbody tr th {\n",
       "        vertical-align: top;\n",
       "    }\n",
       "\n",
       "    .dataframe thead th {\n",
       "        text-align: right;\n",
       "    }\n",
       "</style>\n",
       "<table border=\"1\" class=\"dataframe\">\n",
       "  <thead>\n",
       "    <tr style=\"text-align: right;\">\n",
       "      <th></th>\n",
       "      <th>registro_produto</th>\n",
       "      <th>preço</th>\n",
       "    </tr>\n",
       "  </thead>\n",
       "  <tbody>\n",
       "    <tr>\n",
       "      <th>produto_1</th>\n",
       "      <td>laptop</td>\n",
       "      <td>1200</td>\n",
       "    </tr>\n",
       "    <tr>\n",
       "      <th>produto_2</th>\n",
       "      <td>impressora</td>\n",
       "      <td>150</td>\n",
       "    </tr>\n",
       "    <tr>\n",
       "      <th>produto_3</th>\n",
       "      <td>tablet</td>\n",
       "      <td>300</td>\n",
       "    </tr>\n",
       "    <tr>\n",
       "      <th>produto_4</th>\n",
       "      <td>mesa</td>\n",
       "      <td>450</td>\n",
       "    </tr>\n",
       "    <tr>\n",
       "      <th>produto_5</th>\n",
       "      <td>cadeira</td>\n",
       "      <td>200</td>\n",
       "    </tr>\n",
       "  </tbody>\n",
       "</table>\n",
       "</div>"
      ],
      "text/plain": [
       "          registro_produto  preço\n",
       "produto_1           laptop   1200\n",
       "produto_2       impressora    150\n",
       "produto_3           tablet    300\n",
       "produto_4             mesa    450\n",
       "produto_5          cadeira    200"
      ]
     },
     "execution_count": 7,
     "metadata": {},
     "output_type": "execute_result"
    }
   ],
   "source": [
    "import pandas as pd\n",
    "\n",
    "produtos = {'registro_produto': ['laptop', 'impressora', 'tablet', 'mesa', 'cadeira'],\n",
    "        'preço': [1200, 150, 300, 450, 200]}\n",
    "\n",
    "df_produtos = pd.DataFrame(produtos, index=['produto_1', 'produto_2', 'produto_3', 'produto_4', 'produto_5'])\n",
    "df_produtos"
   ]
  },
  {
   "cell_type": "code",
   "execution_count": 6,
   "id": "1b786c67",
   "metadata": {},
   "outputs": [
    {
     "data": {
      "text/html": [
       "<div>\n",
       "<style scoped>\n",
       "    .dataframe tbody tr th:only-of-type {\n",
       "        vertical-align: middle;\n",
       "    }\n",
       "\n",
       "    .dataframe tbody tr th {\n",
       "        vertical-align: top;\n",
       "    }\n",
       "\n",
       "    .dataframe thead th {\n",
       "        text-align: right;\n",
       "    }\n",
       "</style>\n",
       "<table border=\"1\" class=\"dataframe\">\n",
       "  <thead>\n",
       "    <tr style=\"text-align: right;\">\n",
       "      <th></th>\n",
       "      <th>registro_produto</th>\n",
       "      <th>data</th>\n",
       "    </tr>\n",
       "  </thead>\n",
       "  <tbody>\n",
       "    <tr>\n",
       "      <th>venda_1</th>\n",
       "      <td>laptop</td>\n",
       "      <td>03/05/2023</td>\n",
       "    </tr>\n",
       "    <tr>\n",
       "      <th>venda_2</th>\n",
       "      <td>tablet</td>\n",
       "      <td>17/11/2022</td>\n",
       "    </tr>\n",
       "    <tr>\n",
       "      <th>venda_3</th>\n",
       "      <td>laptop</td>\n",
       "      <td>09/08/2022</td>\n",
       "    </tr>\n",
       "    <tr>\n",
       "      <th>venda_4</th>\n",
       "      <td>mesa</td>\n",
       "      <td>14/05/2023</td>\n",
       "    </tr>\n",
       "    <tr>\n",
       "      <th>venda_5</th>\n",
       "      <td>cadeira</td>\n",
       "      <td>23/07/2021</td>\n",
       "    </tr>\n",
       "    <tr>\n",
       "      <th>venda_6</th>\n",
       "      <td>mesa</td>\n",
       "      <td>09/09/2021</td>\n",
       "    </tr>\n",
       "    <tr>\n",
       "      <th>venda_7</th>\n",
       "      <td>tablet</td>\n",
       "      <td>19/08/2023</td>\n",
       "    </tr>\n",
       "    <tr>\n",
       "      <th>venda_8</th>\n",
       "      <td>cadeira</td>\n",
       "      <td>23/07/2021</td>\n",
       "    </tr>\n",
       "    <tr>\n",
       "      <th>venda_9</th>\n",
       "      <td>cadeira</td>\n",
       "      <td>23/07/2021</td>\n",
       "    </tr>\n",
       "    <tr>\n",
       "      <th>venda_10</th>\n",
       "      <td>laptop</td>\n",
       "      <td>09/08/2022</td>\n",
       "    </tr>\n",
       "    <tr>\n",
       "      <th>venda_11</th>\n",
       "      <td>tablet</td>\n",
       "      <td>24/01/2021</td>\n",
       "    </tr>\n",
       "    <tr>\n",
       "      <th>venda_12</th>\n",
       "      <td>cadeira</td>\n",
       "      <td>18/03/2023</td>\n",
       "    </tr>\n",
       "  </tbody>\n",
       "</table>\n",
       "</div>"
      ],
      "text/plain": [
       "         registro_produto        data\n",
       "venda_1            laptop  03/05/2023\n",
       "venda_2            tablet  17/11/2022\n",
       "venda_3            laptop  09/08/2022\n",
       "venda_4              mesa  14/05/2023\n",
       "venda_5           cadeira  23/07/2021\n",
       "venda_6              mesa  09/09/2021\n",
       "venda_7            tablet  19/08/2023\n",
       "venda_8           cadeira  23/07/2021\n",
       "venda_9           cadeira  23/07/2021\n",
       "venda_10           laptop  09/08/2022\n",
       "venda_11           tablet  24/01/2021\n",
       "venda_12          cadeira  18/03/2023"
      ]
     },
     "execution_count": 6,
     "metadata": {},
     "output_type": "execute_result"
    }
   ],
   "source": [
    "import pandas as pd\n",
    "\n",
    "vendas = {'registro_produto': ['laptop', 'tablet', 'laptop', 'mesa', 'cadeira', 'mesa', 'tablet', 'cadeira', 'cadeira', 'laptop', 'tablet', 'cadeira'],\n",
    "        'data': ['03/05/2023', '17/11/2022', '09/08/2022', '14/05/2023', '23/07/2021', '09/09/2021', '19/08/2023', '23/07/2021', '23/07/2021', '09/08/2022', '24/01/2021', '18/03/2023']}\n",
    "\n",
    "df_vendas = pd.DataFrame(vendas, index=['venda_1', 'venda_2', 'venda_3', 'venda_4', 'venda_5', 'venda_6', 'venda_7', 'venda_8', 'venda_9', 'venda_10', 'venda_11', 'venda_12'])\n",
    "df_vendas"
   ]
  },
  {
   "cell_type": "markdown",
   "id": "2d38401e",
   "metadata": {},
   "source": [
    "a) Incorpore uma coluna ao df_produtos com a receita total de cada produto por ano, ou seja, uma coluna com o ano 2021, outra com 2022 e outra com 2023 para cada produto."
   ]
  },
  {
   "cell_type": "code",
   "execution_count": null,
   "id": "7e868c6e",
   "metadata": {},
   "outputs": [],
   "source": []
  },
  {
   "cell_type": "markdown",
   "id": "bcc302b4",
   "metadata": {},
   "source": [
    "b) Qual foi a receita total nesses 3 anos?"
   ]
  },
  {
   "cell_type": "code",
   "execution_count": null,
   "id": "46a4f60b",
   "metadata": {},
   "outputs": [],
   "source": []
  }
 ],
 "metadata": {
  "kernelspec": {
   "display_name": "Python 3 (ipykernel)",
   "language": "python",
   "name": "python3"
  },
  "language_info": {
   "codemirror_mode": {
    "name": "ipython",
    "version": 3
   },
   "file_extension": ".py",
   "mimetype": "text/x-python",
   "name": "python",
   "nbconvert_exporter": "python",
   "pygments_lexer": "ipython3",
   "version": "3.9.6"
  }
 },
 "nbformat": 4,
 "nbformat_minor": 5
}
