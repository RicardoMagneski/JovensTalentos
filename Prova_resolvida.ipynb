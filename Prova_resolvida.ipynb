{
 "cells": [
  {
   "cell_type": "markdown",
   "id": "25b9bfce",
   "metadata": {},
   "source": [
    "#### Regras:\n",
    "* A avaliação é individual\n",
    "* O prazo para entrega é 29/03, 15h30 (final da aula)\n",
    "* Não utilize internet além das documentações oficiais do Python\n",
    "* Ao completar envie para ana.mees@ipm.com.br\n",
    "* Boa sorte! Os resultados também irão nos guiar nas próximas aulas"
   ]
  },
  {
   "cell_type": "markdown",
   "id": "e4e71231",
   "metadata": {},
   "source": [
    "### Questão 1 - Fermat"
   ]
  },
  {
   "cell_type": "code",
   "execution_count": 1,
   "id": "322900b8",
   "metadata": {},
   "outputs": [
    {
     "name": "stdout",
     "output_type": "stream",
     "text": [
      "Ok, ele estava certo.\n"
     ]
    }
   ],
   "source": [
    "def check_fermat (a : int , b : int , c: int , n : int):\n",
    "    if(n > 2):\n",
    "        if(a**n + b**n != c**n):\n",
    "            print ('Ok, ele estava certo.')\n",
    "        else:\n",
    "            print ('Fermat estava errado!')\n",
    "    else:\n",
    "        print('Insira um valor para n maior que 2')\n",
    "\n",
    "check_fermat(1,1,1,3);"
   ]
  },
  {
   "cell_type": "markdown",
   "id": "3a2e65d2",
   "metadata": {},
   "source": [
    "### Questão 2 - Manipulação com listas"
   ]
  },
  {
   "cell_type": "code",
   "execution_count": 24,
   "id": "2027e77d",
   "metadata": {},
   "outputs": [
    {
     "name": "stdout",
     "output_type": "stream",
     "text": [
      "[104, 103, 102, 101, 100, 99, 98, 97, 96, 95, 94, 93, 92, 91, 90, 89, 88, 87, 86, 85, 84, 83, 82, 81, 80, 79, 78, 77, 76, 75, 74, 73, 72, 71, 70, 69, 68, 67, 66, 65, 64, 63, 62, 61, 60, 59, 58, 57, 56, 55, 54, 53, 52, 51, 50, 49, 48, 47, 46, 45, 44, 43, 42, 41, 40, 39, 38, 37, 36, 35, 34, 33, 32, 31, 30, 29, 28, 27, 26, 25, 24, 23, 22, 21, 20, 19, 18, 17, 16, 15, 14, 13, 12, 11, 10]\n",
      "14\n",
      "13\n",
      "12\n",
      "11\n",
      "10\n",
      "2760\n"
     ]
    }
   ],
   "source": [
    "# Primeira parte\n",
    "lista = []\n",
    "pos = 10\n",
    "while (pos < 105): # até 104\n",
    "    lista.insert(0,pos) # inserir ao contrário\n",
    "    pos += 1\n",
    "print(lista)\n",
    "\n",
    "# Segunda parte\n",
    "# Retorne a soma de todos os números da lista em posições pares e os últimos 5 números.\n",
    "\n",
    "# Somar pares\n",
    "soma, d = 0, 0\n",
    "while(d < (len(lista)-5)):\n",
    "    soma += lista[d]\n",
    "    d += 2 #pares\n",
    "\n",
    "# Somar últimos 5\n",
    "for i in range((len(lista)-5),len(lista),1):\n",
    "    print(lista[i]) #debug\n",
    "    soma += lista[i]\n",
    "print (soma) "
   ]
  },
  {
   "cell_type": "markdown",
   "id": "53cb9bf8",
   "metadata": {},
   "source": [
    "### Questão 3 - Par inverso"
   ]
  },
  {
   "cell_type": "code",
   "execution_count": 6,
   "id": "647f9405",
   "metadata": {},
   "outputs": [
    {
     "name": "stdout",
     "output_type": "stream",
     "text": [
      "True\n"
     ]
    }
   ],
   "source": [
    "def par_inverso (a : str , b : str):\n",
    "    c = list(a.upper())\n",
    "    c.reverse()\n",
    "    d = list(b.upper())\n",
    "    if (c == d):\n",
    "        return True\n",
    "    else:\n",
    "        return False\n",
    "\n",
    "print(par_inverso('Luiza', 'aziul'))"
   ]
  },
  {
   "cell_type": "markdown",
   "id": "ae717db4",
   "metadata": {},
   "source": [
    "### Questão 4 - Nome na vertical"
   ]
  },
  {
   "cell_type": "code",
   "execution_count": null,
   "id": "8c8c6eb0",
   "metadata": {},
   "outputs": [],
   "source": [
    "def nome_vertical(nome : str):\n",
    "    nome = list(nome)\n",
    "    for n in nome:\n",
    "        print(n)\n",
    "\n",
    "nome_vertical(input('Qual seu nome?'))"
   ]
  },
  {
   "cell_type": "markdown",
   "id": "28a50b8e",
   "metadata": {},
   "source": [
    "### Questão 5 - Número de telefone"
   ]
  },
  {
   "cell_type": "code",
   "execution_count": 26,
   "id": "b8f77728",
   "metadata": {},
   "outputs": [
    {
     "name": "stdout",
     "output_type": "stream",
     "text": [
      "99112-4613\n"
     ]
    }
   ],
   "source": [
    "# Resposta do Emanuel!\n",
    "def num_tel(num : str):\n",
    "    num = list(num)\n",
    "    num.reverse()\n",
    "    if(num[4] == '-'):\n",
    "        num.reverse()\n",
    "        while(len(num) < 10):\n",
    "            num.insert(0,'9')\n",
    "    else:\n",
    "        num.reverse()\n",
    "        while(len(num) < 9):\n",
    "            num.insert(0,'9')\n",
    "    print(''.join(num))\n",
    "\n",
    "num_tel('9112-4613')"
   ]
  },
  {
   "cell_type": "markdown",
   "id": "c8893854",
   "metadata": {},
   "source": [
    "### Questão 6 - Gerador automático de senhas"
   ]
  },
  {
   "cell_type": "code",
   "execution_count": 27,
   "id": "61f6d419",
   "metadata": {},
   "outputs": [
    {
     "name": "stdout",
     "output_type": "stream",
     "text": [
      "Senha gerada: *21jgbe)dd\n",
      "Senha gerada: *12fc*jbj0\n",
      "Senha gerada: $67kh$0c09\n",
      "Senha gerada: @87hd9)b3!\n",
      "Senha gerada: )33dj)72¨)\n"
     ]
    }
   ],
   "source": [
    "# Resposta do Luiz!\n",
    "\n",
    "import random\n",
    "\n",
    "def senha_builder(num_senhas, tamanho):\n",
    "\n",
    "    if not isinstance(num_senhas, int) or not isinstance(tamanho, int):\n",
    "        print('Inputs devem ser numéricos')\n",
    "        return\n",
    "    \n",
    "    if tamanho < 5:\n",
    "        print('Tamanho da senha deve ser 5 ou mais.')\n",
    "        return    \n",
    "\n",
    "    banco_caracteres_especiais = ['!','@','#','$','%','¨','&','*','(',')']\n",
    "    banco_numeros = ['1','2','3','4','5','6','7','8','9','0']\n",
    "    banco_letras = ['a','b','c','d','e','f','g','h','j','k']\n",
    "\n",
    "    banco = []\n",
    "\n",
    "    banco.append(banco_caracteres_especiais)\n",
    "    banco.append(banco_numeros)\n",
    "    banco.append(banco_letras)\n",
    "\n",
    "    senhas = []\n",
    "\n",
    "    for x in range(num_senhas):        \n",
    "\n",
    "        senha = ''\n",
    "        senha += banco_caracteres_especiais[random.randint(0, 9)]\n",
    "        senha += banco_numeros[random.randint(0, 9)]\n",
    "        senha += banco_numeros[random.randint(0, 9)]\n",
    "        senha += banco_letras[random.randint(0, 9)]\n",
    "        senha += banco_letras[random.randint(0, 9)]\n",
    "\n",
    "        while len(senha) < tamanho:\n",
    "            senha += banco[random.randint(0,2)][random.randint(0,9)]\n",
    "        \n",
    "        senhas.append(senha)\n",
    "\n",
    "    for senha in senhas:\n",
    "        print('Senha gerada: '+senha)\n",
    "\n",
    "\n",
    "senha_builder(5, 10)"
   ]
  },
  {
   "cell_type": "markdown",
   "id": "5fa63c2e",
   "metadata": {},
   "source": [
    "### Questão 7 - Dataframes!"
   ]
  },
  {
   "cell_type": "code",
   "execution_count": 29,
   "id": "d9588c5e",
   "metadata": {},
   "outputs": [
    {
     "data": {
      "text/html": [
       "<div>\n",
       "<style scoped>\n",
       "    .dataframe tbody tr th:only-of-type {\n",
       "        vertical-align: middle;\n",
       "    }\n",
       "\n",
       "    .dataframe tbody tr th {\n",
       "        vertical-align: top;\n",
       "    }\n",
       "\n",
       "    .dataframe thead th {\n",
       "        text-align: right;\n",
       "    }\n",
       "</style>\n",
       "<table border=\"1\" class=\"dataframe\">\n",
       "  <thead>\n",
       "    <tr style=\"text-align: right;\">\n",
       "      <th></th>\n",
       "      <th>registro_produto</th>\n",
       "      <th>preço</th>\n",
       "    </tr>\n",
       "  </thead>\n",
       "  <tbody>\n",
       "    <tr>\n",
       "      <th>produto_1</th>\n",
       "      <td>laptop</td>\n",
       "      <td>1200</td>\n",
       "    </tr>\n",
       "    <tr>\n",
       "      <th>produto_2</th>\n",
       "      <td>impressora</td>\n",
       "      <td>150</td>\n",
       "    </tr>\n",
       "    <tr>\n",
       "      <th>produto_3</th>\n",
       "      <td>tablet</td>\n",
       "      <td>300</td>\n",
       "    </tr>\n",
       "    <tr>\n",
       "      <th>produto_4</th>\n",
       "      <td>mesa</td>\n",
       "      <td>450</td>\n",
       "    </tr>\n",
       "    <tr>\n",
       "      <th>produto_5</th>\n",
       "      <td>cadeira</td>\n",
       "      <td>200</td>\n",
       "    </tr>\n",
       "  </tbody>\n",
       "</table>\n",
       "</div>"
      ],
      "text/plain": [
       "          registro_produto  preço\n",
       "produto_1           laptop   1200\n",
       "produto_2       impressora    150\n",
       "produto_3           tablet    300\n",
       "produto_4             mesa    450\n",
       "produto_5          cadeira    200"
      ]
     },
     "execution_count": 29,
     "metadata": {},
     "output_type": "execute_result"
    }
   ],
   "source": [
    "import pandas as pd\n",
    "\n",
    "produtos = {'registro_produto': ['laptop', 'impressora', 'tablet', 'mesa', 'cadeira'],\n",
    "        'preço': [1200, 150, 300, 450, 200]}\n",
    "\n",
    "df_produtos = pd.DataFrame(produtos, index=['produto_1', 'produto_2', 'produto_3', 'produto_4', 'produto_5'])\n",
    "df_produtos"
   ]
  },
  {
   "cell_type": "code",
   "execution_count": 30,
   "id": "1b786c67",
   "metadata": {},
   "outputs": [
    {
     "data": {
      "text/html": [
       "<div>\n",
       "<style scoped>\n",
       "    .dataframe tbody tr th:only-of-type {\n",
       "        vertical-align: middle;\n",
       "    }\n",
       "\n",
       "    .dataframe tbody tr th {\n",
       "        vertical-align: top;\n",
       "    }\n",
       "\n",
       "    .dataframe thead th {\n",
       "        text-align: right;\n",
       "    }\n",
       "</style>\n",
       "<table border=\"1\" class=\"dataframe\">\n",
       "  <thead>\n",
       "    <tr style=\"text-align: right;\">\n",
       "      <th></th>\n",
       "      <th>registro_produto</th>\n",
       "      <th>data</th>\n",
       "    </tr>\n",
       "  </thead>\n",
       "  <tbody>\n",
       "    <tr>\n",
       "      <th>venda_1</th>\n",
       "      <td>laptop</td>\n",
       "      <td>03/05/2023</td>\n",
       "    </tr>\n",
       "    <tr>\n",
       "      <th>venda_2</th>\n",
       "      <td>tablet</td>\n",
       "      <td>17/11/2022</td>\n",
       "    </tr>\n",
       "    <tr>\n",
       "      <th>venda_3</th>\n",
       "      <td>laptop</td>\n",
       "      <td>09/08/2022</td>\n",
       "    </tr>\n",
       "    <tr>\n",
       "      <th>venda_4</th>\n",
       "      <td>mesa</td>\n",
       "      <td>14/05/2023</td>\n",
       "    </tr>\n",
       "    <tr>\n",
       "      <th>venda_5</th>\n",
       "      <td>cadeira</td>\n",
       "      <td>23/07/2021</td>\n",
       "    </tr>\n",
       "    <tr>\n",
       "      <th>venda_6</th>\n",
       "      <td>mesa</td>\n",
       "      <td>09/09/2021</td>\n",
       "    </tr>\n",
       "    <tr>\n",
       "      <th>venda_7</th>\n",
       "      <td>tablet</td>\n",
       "      <td>19/08/2023</td>\n",
       "    </tr>\n",
       "    <tr>\n",
       "      <th>venda_8</th>\n",
       "      <td>cadeira</td>\n",
       "      <td>23/07/2021</td>\n",
       "    </tr>\n",
       "    <tr>\n",
       "      <th>venda_9</th>\n",
       "      <td>cadeira</td>\n",
       "      <td>23/07/2021</td>\n",
       "    </tr>\n",
       "    <tr>\n",
       "      <th>venda_10</th>\n",
       "      <td>laptop</td>\n",
       "      <td>09/08/2022</td>\n",
       "    </tr>\n",
       "    <tr>\n",
       "      <th>venda_11</th>\n",
       "      <td>tablet</td>\n",
       "      <td>24/01/2021</td>\n",
       "    </tr>\n",
       "    <tr>\n",
       "      <th>venda_12</th>\n",
       "      <td>cadeira</td>\n",
       "      <td>18/03/2023</td>\n",
       "    </tr>\n",
       "  </tbody>\n",
       "</table>\n",
       "</div>"
      ],
      "text/plain": [
       "         registro_produto        data\n",
       "venda_1            laptop  03/05/2023\n",
       "venda_2            tablet  17/11/2022\n",
       "venda_3            laptop  09/08/2022\n",
       "venda_4              mesa  14/05/2023\n",
       "venda_5           cadeira  23/07/2021\n",
       "venda_6              mesa  09/09/2021\n",
       "venda_7            tablet  19/08/2023\n",
       "venda_8           cadeira  23/07/2021\n",
       "venda_9           cadeira  23/07/2021\n",
       "venda_10           laptop  09/08/2022\n",
       "venda_11           tablet  24/01/2021\n",
       "venda_12          cadeira  18/03/2023"
      ]
     },
     "execution_count": 30,
     "metadata": {},
     "output_type": "execute_result"
    }
   ],
   "source": [
    "import pandas as pd\n",
    "\n",
    "vendas = {'registro_produto': ['laptop', 'tablet', 'laptop', 'mesa', 'cadeira', 'mesa', 'tablet', 'cadeira', 'cadeira', 'laptop', 'tablet', 'cadeira'],\n",
    "        'data': ['03/05/2023', '17/11/2022', '09/08/2022', '14/05/2023', '23/07/2021', '09/09/2021', '19/08/2023', '23/07/2021', '23/07/2021', '09/08/2022', '24/01/2021', '18/03/2023']}\n",
    "\n",
    "df_vendas = pd.DataFrame(vendas, index=['venda_1', 'venda_2', 'venda_3', 'venda_4', 'venda_5', 'venda_6', 'venda_7', 'venda_8', 'venda_9', 'venda_10', 'venda_11', 'venda_12'])\n",
    "df_vendas"
   ]
  },
  {
   "cell_type": "markdown",
   "id": "2d38401e",
   "metadata": {},
   "source": [
    "a) Incorpore uma coluna ao df_produtos com a receita total de cada produto por ano, ou seja, uma coluna com o ano 2021, outra com 2022 e outra com 2023 para cada produto."
   ]
  },
  {
   "cell_type": "code",
   "execution_count": 31,
   "id": "7e868c6e",
   "metadata": {},
   "outputs": [
    {
     "data": {
      "text/html": [
       "<div>\n",
       "<style scoped>\n",
       "    .dataframe tbody tr th:only-of-type {\n",
       "        vertical-align: middle;\n",
       "    }\n",
       "\n",
       "    .dataframe tbody tr th {\n",
       "        vertical-align: top;\n",
       "    }\n",
       "\n",
       "    .dataframe thead th {\n",
       "        text-align: right;\n",
       "    }\n",
       "</style>\n",
       "<table border=\"1\" class=\"dataframe\">\n",
       "  <thead>\n",
       "    <tr style=\"text-align: right;\">\n",
       "      <th></th>\n",
       "      <th>registro_produto</th>\n",
       "      <th>preço</th>\n",
       "      <th>2021</th>\n",
       "      <th>2022</th>\n",
       "      <th>2023</th>\n",
       "    </tr>\n",
       "  </thead>\n",
       "  <tbody>\n",
       "    <tr>\n",
       "      <th>0</th>\n",
       "      <td>laptop</td>\n",
       "      <td>1200</td>\n",
       "      <td>0.0</td>\n",
       "      <td>2400.0</td>\n",
       "      <td>1200.0</td>\n",
       "    </tr>\n",
       "    <tr>\n",
       "      <th>1</th>\n",
       "      <td>impressora</td>\n",
       "      <td>150</td>\n",
       "      <td>0.0</td>\n",
       "      <td>0.0</td>\n",
       "      <td>0.0</td>\n",
       "    </tr>\n",
       "    <tr>\n",
       "      <th>2</th>\n",
       "      <td>tablet</td>\n",
       "      <td>300</td>\n",
       "      <td>300.0</td>\n",
       "      <td>300.0</td>\n",
       "      <td>300.0</td>\n",
       "    </tr>\n",
       "    <tr>\n",
       "      <th>3</th>\n",
       "      <td>mesa</td>\n",
       "      <td>450</td>\n",
       "      <td>450.0</td>\n",
       "      <td>0.0</td>\n",
       "      <td>450.0</td>\n",
       "    </tr>\n",
       "    <tr>\n",
       "      <th>4</th>\n",
       "      <td>cadeira</td>\n",
       "      <td>200</td>\n",
       "      <td>600.0</td>\n",
       "      <td>0.0</td>\n",
       "      <td>200.0</td>\n",
       "    </tr>\n",
       "  </tbody>\n",
       "</table>\n",
       "</div>"
      ],
      "text/plain": [
       "  registro_produto  preço   2021    2022    2023\n",
       "0           laptop   1200    0.0  2400.0  1200.0\n",
       "1       impressora    150    0.0     0.0     0.0\n",
       "2           tablet    300  300.0   300.0   300.0\n",
       "3             mesa    450  450.0     0.0   450.0\n",
       "4          cadeira    200  600.0     0.0   200.0"
      ]
     },
     "execution_count": 31,
     "metadata": {},
     "output_type": "execute_result"
    }
   ],
   "source": [
    "# Resposta do Giancarlo!\n",
    "\n",
    "vendas_produto = df_vendas.merge(\n",
    "    df_produtos,\n",
    "    right_on='registro_produto',\n",
    "    left_on='registro_produto', \n",
    "    how='left'\n",
    ")\n",
    "vendas_produto['data'] = pd.to_datetime(vendas_produto['data'], format=\"%d/%m/%Y\", dayfirst=True)\n",
    "vendas_produto['ano'] = vendas_produto['data'].dt.strftime(\"%Y\")\n",
    "vendas_produto_agrupado = vendas_produto.groupby(['registro_produto', 'ano']).sum('preço')\n",
    "vendas_produto_agrupado = vendas_produto_agrupado.reset_index()\n",
    "itensPorAno = vendas_produto_agrupado.pivot(index=\"registro_produto\", columns=\"ano\", values=\"preço\").reset_index()\n",
    "df_produtos_vendas = df_produtos.merge(\n",
    "    itensPorAno,\n",
    "    right_on='registro_produto',\n",
    "    left_on='registro_produto', \n",
    "    how='left'\n",
    ")\n",
    "df_produtos_vendas = df_produtos_vendas.fillna(0)\n",
    "df_produtos_vendas"
   ]
  },
  {
   "cell_type": "markdown",
   "id": "bcc302b4",
   "metadata": {},
   "source": [
    "b) Qual foi a receita total nesses 3 anos?"
   ]
  },
  {
   "cell_type": "code",
   "execution_count": 38,
   "id": "46a4f60b",
   "metadata": {},
   "outputs": [
    {
     "name": "stdout",
     "output_type": "stream",
     "text": [
      "A receita total nos 3 anos foi de R$ 6200.0\n"
     ]
    }
   ],
   "source": [
    "# Ana\n",
    "df_total = df_produtos_vendas.drop(['registro_produto', 'preço'], axis=1)\n",
    "df_total = df_total.sum(axis = 1).sum(axis = 0) # Somar horizontal, depois vertical\n",
    "print(\"A receita total nos 3 anos foi de R$ \" + str(df_total))"
   ]
  }
 ],
 "metadata": {
  "kernelspec": {
   "display_name": "Python 3 (ipykernel)",
   "language": "python",
   "name": "python3"
  },
  "language_info": {
   "codemirror_mode": {
    "name": "ipython",
    "version": 3
   },
   "file_extension": ".py",
   "mimetype": "text/x-python",
   "name": "python",
   "nbconvert_exporter": "python",
   "pygments_lexer": "ipython3",
   "version": "3.9.6"
  }
 },
 "nbformat": 4,
 "nbformat_minor": 5
}
