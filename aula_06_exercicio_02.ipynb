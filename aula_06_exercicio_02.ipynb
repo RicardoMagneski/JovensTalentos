{
 "cells": [
  {
   "cell_type": "code",
   "execution_count": 59,
   "metadata": {},
   "outputs": [],
   "source": [
    "class Aluno():\n",
    "    def __init__(self, nome, matricula, notas):\n",
    "        self.nome = nome\n",
    "        self.matricula = matricula\n",
    "        self.__notas = []\n",
    "        for x in range(len(notas)):\n",
    "            self.__notas.append({\n",
    "            'prova': x+1,\n",
    "            'nota': notas[x],\n",
    "            'peso': 1\n",
    "        })\n",
    "\n",
    "    def add_nota(self, prova, nota, peso):\n",
    "        self.__notas.append({\n",
    "            'prova': prova,\n",
    "            'nota': nota,\n",
    "            'peso': peso\n",
    "        })\n",
    "    \n",
    "    def get_notas(self):\n",
    "        return self.__notas\n",
    "\n",
    "    def get_media(self):\n",
    "        total_notas, total_pesos = 0,0\n",
    "        for nota in self.__notas:\n",
    "            total_notas += (nota['nota'] * nota['peso'])\n",
    "            total_pesos += nota['peso']\n",
    "        return round(total_notas / total_pesos,2)"
   ]
  },
  {
   "cell_type": "code",
   "execution_count": 62,
   "metadata": {},
   "outputs": [
    {
     "name": "stdout",
     "output_type": "stream",
     "text": [
      "Aluno 5  teve a maior média: 7.67\n",
      "Aluno 3  teve a menor média:  3.67\n",
      "Aluno 1  foi  Aprovado  com a média:  7.0\n",
      "Aluno 2  foi  Reprovado  com a média:  5.0\n",
      "Aluno 3  foi  Reprovado  com a média:  3.67\n",
      "Aluno 4  foi  Reprovado  com a média:  4.33\n",
      "Aluno 5  foi  Aprovado  com a média:  7.67\n"
     ]
    }
   ],
   "source": [
    "import random\n",
    "\n",
    "# criação automática de \n",
    "alunos = []\n",
    "for i in range(5):\n",
    "    alunos.append(Aluno('Aluno '+str(i+1), i, [random.randint(0,10),random.randint(0,10),random.randint(0,10)]))\n",
    "\n",
    "alunos_ord = sorted(alunos, key=lambda aluno: aluno.get_media(), reverse=True)\n",
    "print(alunos_ord[0].nome, ' teve a maior média:',alunos_ord[0].get_media())\n",
    "print(alunos_ord[-1].nome,' teve a menor média: ',alunos_ord[-1].get_media())\n",
    "for aluno in alunos:\n",
    "    mensagem = 'Aprovado' if aluno.get_media() >= 7 else 'Reprovado'\n",
    "    print(aluno.nome,' foi ',mensagem,' com a média: ',aluno.get_media())"
   ]
  }
 ],
 "metadata": {
  "kernelspec": {
   "display_name": "env_py",
   "language": "python",
   "name": "python3"
  },
  "language_info": {
   "codemirror_mode": {
    "name": "ipython",
    "version": 3
   },
   "file_extension": ".py",
   "mimetype": "text/x-python",
   "name": "python",
   "nbconvert_exporter": "python",
   "pygments_lexer": "ipython3",
   "version": "3.8.16"
  },
  "orig_nbformat": 4
 },
 "nbformat": 4,
 "nbformat_minor": 2
}
