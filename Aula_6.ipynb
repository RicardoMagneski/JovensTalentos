{
 "cells": [
  {
   "cell_type": "markdown",
   "id": "2ea1526f",
   "metadata": {},
   "source": [
    "## Classes e métodos"
   ]
  },
  {
   "cell_type": "code",
   "execution_count": 1,
   "id": "17861d16",
   "metadata": {},
   "outputs": [],
   "source": [
    "class Pessoa:\n",
    "# Convenção: nomes de classes começam com letras maiúsculas\n",
    "    def __init__(self, nome, idade):\n",
    "        self.nome = nome\n",
    "        self.idade = idade\n",
    "\n",
    "    def setNome(self, nome):\n",
    "        self.nome = nome\n",
    "\n",
    "    def setIdade(self, idade):\n",
    "        self.idade = idade\n",
    "\n",
    "    def getNome(self):\n",
    "        return self.nome\n",
    "\n",
    "    def getIdade(self):\n",
    "        return self.idade"
   ]
  },
  {
   "cell_type": "code",
   "execution_count": 4,
   "id": "6eff5198",
   "metadata": {},
   "outputs": [],
   "source": [
    "# from pessoa import Pessoa - salvando Pessoa no arquivo pessoa.py\n",
    "\n",
    "class PessoaFisica(Pessoa):\n",
    "    def __init__(self, CPF, nome, idade):\n",
    "        super().__init__(nome, idade)\n",
    "        self.CPF = CPF\n",
    "    def getCPF(self):\n",
    "        return self.CPF\n",
    "    def setCPF(self, CPF):\n",
    "        self.CPF = CPF"
   ]
  },
  {
   "cell_type": "code",
   "execution_count": 5,
   "id": "ae8a3681",
   "metadata": {},
   "outputs": [],
   "source": [
    "class PessoaJuridica(Pessoa):\n",
    "    def __init__(self, CNPJ, nome, idade):\n",
    "        super().__init__(nome, idade)\n",
    "        self.CNPJ = CNPJ\n",
    "\n",
    "    def getCNPJ(self):\n",
    "        return self.CNPJ\n",
    "\n",
    "    def setCNPJ(self, CNPJ):\n",
    "        self.CNPJ = CNPJ"
   ]
  },
  {
   "cell_type": "code",
   "execution_count": 14,
   "id": "5536829f",
   "metadata": {},
   "outputs": [
    {
     "data": {
      "text/plain": [
       "<__main__.Pessoa at 0x10c236790>"
      ]
     },
     "execution_count": 14,
     "metadata": {},
     "output_type": "execute_result"
    }
   ],
   "source": [
    "regis = Pessoa('Regis', 42)\n",
    "regis"
   ]
  },
  {
   "cell_type": "markdown",
   "id": "e880c8ba",
   "metadata": {},
   "source": [
    "* Criar um objeto chama-se instanciação, e o objeto é uma instância da classe.\n",
    "\n",
    "Quando você exibe uma instância, o Python diz a que classe ela pertence e onde está armazenada na memória (o prefixo o 0x significa que o número seguinte está em formato hexadecimal)."
   ]
  },
  {
   "cell_type": "code",
   "execution_count": 11,
   "id": "ab6825b0",
   "metadata": {},
   "outputs": [],
   "source": [
    "class Calculadora:\n",
    "\n",
    "    def __init__(self, a, b): # init é um método chamado quando um objeto de uma classe é instanciado\n",
    "        self.a = a # atribuir valores a uma instância\n",
    "        self.b = b\n",
    "\n",
    "    def soma(self):\n",
    "        return self.a + self.b\n",
    "\n",
    "    def subtrai(self):\n",
    "        return self.a - self.b\n",
    "\n",
    "    def multiplica(self):\n",
    "        return self.a * self.b\n",
    "\n",
    "    def divide(self):\n",
    "        return int(self.a / self.b)"
   ]
  },
  {
   "cell_type": "code",
   "execution_count": 12,
   "id": "a7f57c37",
   "metadata": {},
   "outputs": [
    {
     "name": "stdout",
     "output_type": "stream",
     "text": [
      "Soma: 130\n",
      "Subtração: 126\n",
      "Multiplicação: 256\n",
      "Divisão: 64\n"
     ]
    }
   ],
   "source": [
    "calc = Calculadora(128,2)\n",
    "print('Soma:', calc.soma())\n",
    "print('Subtração:', calc.subtrai())\n",
    "print('Multiplicação:', calc.multiplica())\n",
    "print('Divisão:', calc.divide())"
   ]
  },
  {
   "cell_type": "code",
   "execution_count": 39,
   "id": "b5e25cc1",
   "metadata": {},
   "outputs": [],
   "source": [
    "class Time:\n",
    "    def __init__(self, hour=0, minute=0, second=0):\n",
    "        self.hour = hour\n",
    "        self.minute = minute\n",
    "        self.second = second\n",
    "#time = Time()\n",
    "#time.hour = 11\n",
    "#time.minute = 59\n",
    "#time.second = 30"
   ]
  },
  {
   "cell_type": "code",
   "execution_count": 40,
   "id": "821fb2f3",
   "metadata": {},
   "outputs": [],
   "source": [
    "def add_time(t1, t2):\n",
    "    sum = Time()\n",
    "    sum.hour = t1.hour + t2.hour\n",
    "    sum.minute = t1.minute + t2.minute\n",
    "    sum.second = t1.second + t2.second\n",
    "    if sum.second >= 60:\n",
    "        sum.second -= 60\n",
    "        sum.minute += 1\n",
    "    if sum.minute >= 60:\n",
    "        sum.minute -= 60\n",
    "        sum.hour += 1\n",
    "    return sum"
   ]
  },
  {
   "cell_type": "code",
   "execution_count": 41,
   "id": "1772ce25",
   "metadata": {},
   "outputs": [
    {
     "name": "stdout",
     "output_type": "stream",
     "text": [
      "<__main__.Time object at 0x10c236b80>\n",
      "Hora: 16\n",
      "Min: 13\n",
      "Segundo: 43\n"
     ]
    }
   ],
   "source": [
    "time1 = Time(2,4,9)\n",
    "time2 = Time(14,9,34)\n",
    "\n",
    "time = add_time(time1, time2)\n",
    "print(time)\n",
    "print('Hora:', time.hour)\n",
    "print('Min:', time.minute)\n",
    "print('Segundo:', time.second)"
   ]
  },
  {
   "cell_type": "code",
   "execution_count": 42,
   "id": "e922d64f",
   "metadata": {},
   "outputs": [],
   "source": [
    "# Função print_time\n",
    "def print_time(time):\n",
    "    print('%.2d:%.2d:%.2d' % (time.hour, time.minute, time.second))"
   ]
  },
  {
   "cell_type": "code",
   "execution_count": 43,
   "id": "384790c2",
   "metadata": {},
   "outputs": [
    {
     "name": "stdout",
     "output_type": "stream",
     "text": [
      "16:13:43\n"
     ]
    }
   ],
   "source": [
    "print_time(time)"
   ]
  },
  {
   "cell_type": "code",
   "execution_count": 45,
   "id": "ac1fa883",
   "metadata": {},
   "outputs": [],
   "source": [
    "# Outra possibilidade:\n",
    "class Time:\n",
    "    def __init__(self, hour=0, minute=0, second=0):\n",
    "        self.hour = hour\n",
    "        self.minute = minute\n",
    "        self.second = second\n",
    "    #Instanciar aqui utilizando o método __str__\n",
    "    def __str__(self):\n",
    "        return '%.2d:%.2d:%.2d' % (self.hour, self.minute, self.second)"
   ]
  },
  {
   "cell_type": "code",
   "execution_count": 46,
   "id": "2e871029",
   "metadata": {},
   "outputs": [],
   "source": [
    "def add_time(t1, t2):\n",
    "    sum = Time()\n",
    "    sum.hour = t1.hour + t2.hour\n",
    "    sum.minute = t1.minute + t2.minute\n",
    "    sum.second = t1.second + t2.second\n",
    "    if sum.second >= 60:\n",
    "        sum.second -= 60\n",
    "        sum.minute += 1\n",
    "    if sum.minute >= 60:\n",
    "        sum.minute -= 60\n",
    "        sum.hour += 1\n",
    "    return sum"
   ]
  },
  {
   "cell_type": "code",
   "execution_count": 47,
   "id": "dc29046f",
   "metadata": {},
   "outputs": [
    {
     "name": "stdout",
     "output_type": "stream",
     "text": [
      "16:13:43\n"
     ]
    }
   ],
   "source": [
    "time1 = Time(2,4,9)\n",
    "time2 = Time(14,9,34)\n",
    "\n",
    "time = add_time(time1, time2)\n",
    "print(time)"
   ]
  },
  {
   "cell_type": "code",
   "execution_count": 48,
   "id": "cc7688ab",
   "metadata": {},
   "outputs": [],
   "source": [
    "class Dog:\n",
    "    kind = 'canine'         # comum para todas as instâncias\n",
    "    def __init__(self, name):\n",
    "        self.name = name    # único para cada instância"
   ]
  },
  {
   "cell_type": "code",
   "execution_count": 50,
   "id": "8f8db681",
   "metadata": {},
   "outputs": [
    {
     "data": {
      "text/plain": [
       "'canine'"
      ]
     },
     "execution_count": 50,
     "metadata": {},
     "output_type": "execute_result"
    }
   ],
   "source": [
    "d = Dog('Fido')\n",
    "e = Dog('Buddy')\n",
    "d.kind                  # comum para todos os doguinhos"
   ]
  },
  {
   "cell_type": "code",
   "execution_count": 53,
   "id": "33982cb6",
   "metadata": {},
   "outputs": [
    {
     "data": {
      "text/plain": [
       "'Fido'"
      ]
     },
     "execution_count": 53,
     "metadata": {},
     "output_type": "execute_result"
    }
   ],
   "source": [
    "d.name"
   ]
  },
  {
   "cell_type": "code",
   "execution_count": 57,
   "id": "c120fb23",
   "metadata": {},
   "outputs": [],
   "source": [
    "# Cuidado!\n",
    "class Dog:\n",
    "    tricks = []\n",
    "\n",
    "    def __init__(self, name):\n",
    "        self.name = name\n",
    "\n",
    "    def add_trick(self, trick):\n",
    "        self.tricks.append(trick)"
   ]
  },
  {
   "cell_type": "code",
   "execution_count": 58,
   "id": "58110933",
   "metadata": {},
   "outputs": [
    {
     "data": {
      "text/plain": [
       "['rolar', 'fingir de morto']"
      ]
     },
     "execution_count": 58,
     "metadata": {},
     "output_type": "execute_result"
    }
   ],
   "source": [
    "d = Dog('Fido')\n",
    "e = Dog('Buddy')\n",
    "d.add_trick('rolar')\n",
    "e.add_trick('fingir de morto')\n",
    "d.tricks "
   ]
  },
  {
   "cell_type": "code",
   "execution_count": 60,
   "id": "5c61f886",
   "metadata": {},
   "outputs": [],
   "source": [
    "# Correto\n",
    "class Dog:\n",
    "\n",
    "    def __init__(self, name):\n",
    "        self.name = name\n",
    "        self.tricks = []    # lista para cada dog\n",
    "\n",
    "    def add_trick(self, trick):\n",
    "        self.tricks.append(trick)\n",
    "\n",
    "d = Dog('Fido')\n",
    "e = Dog('Buddy')\n",
    "d.add_trick('rolar')\n",
    "e.add_trick('fingir de morto')"
   ]
  },
  {
   "cell_type": "code",
   "execution_count": 61,
   "id": "e697ec19",
   "metadata": {},
   "outputs": [
    {
     "data": {
      "text/plain": [
       "['rolar']"
      ]
     },
     "execution_count": 61,
     "metadata": {},
     "output_type": "execute_result"
    }
   ],
   "source": [
    "d.tricks"
   ]
  },
  {
   "cell_type": "code",
   "execution_count": 2,
   "id": "5cd7314b",
   "metadata": {},
   "outputs": [],
   "source": [
    "from dataclasses import dataclass # Maneira prática de agrupar itens de dados\n",
    "\n",
    "@dataclass\n",
    "class Funcionario:\n",
    "    nome: str\n",
    "    dept: str\n",
    "    salario: int"
   ]
  },
  {
   "cell_type": "code",
   "execution_count": 7,
   "id": "6ede205b",
   "metadata": {},
   "outputs": [],
   "source": [
    "ana = Funcionario('Ana', 'Inteligência Artificial', 1000)\n",
    "joao = Funcionario('João', 'Inteligência Artificial', 1000)"
   ]
  },
  {
   "cell_type": "code",
   "execution_count": 8,
   "id": "91bdc189",
   "metadata": {},
   "outputs": [
    {
     "data": {
      "text/plain": [
       "'Inteligência Artificial'"
      ]
     },
     "execution_count": 8,
     "metadata": {},
     "output_type": "execute_result"
    }
   ],
   "source": [
    "ana.dept"
   ]
  },
  {
   "cell_type": "code",
   "execution_count": 62,
   "id": "8720c2cb",
   "metadata": {},
   "outputs": [],
   "source": [
    "import weakref # módulo permite que você crie referências que não aumentam a contagem de referências de um objeto\n",
    "\n",
    "class Graduates:\n",
    "    alunos = []\n",
    "    def __init__(self, name=None, gpa=None):\n",
    "        self.__class__.alunos.append(weakref.proxy(self))\n",
    "        self.name = name\n",
    "        self.gpa = gpa"
   ]
  },
  {
   "cell_type": "code",
   "execution_count": 63,
   "id": "a53b1a7f",
   "metadata": {},
   "outputs": [],
   "source": [
    "joana = Graduates('Joana', 3.2)\n",
    "claudia = Graduates('Claudia', 3.5)\n",
    "joao = Graduates('João', 3.7)"
   ]
  },
  {
   "cell_type": "code",
   "execution_count": 64,
   "id": "fd0d7c76",
   "metadata": {},
   "outputs": [
    {
     "name": "stdout",
     "output_type": "stream",
     "text": [
      "Joana\n",
      "Claudia\n",
      "João\n"
     ]
    }
   ],
   "source": [
    "for alunos in Graduates.alunos:\n",
    "    print(alunos.name)"
   ]
  },
  {
   "cell_type": "code",
   "execution_count": 65,
   "id": "2c40f885",
   "metadata": {},
   "outputs": [
    {
     "name": "stdout",
     "output_type": "stream",
     "text": [
      "(3.7, 'João')\n"
     ]
    }
   ],
   "source": [
    "# Geradores - exemplo posterior\n",
    "valedictorian = max((alunos.gpa, alunos.name) for alunos in Graduates.alunos)\n",
    "print(valedictorian)"
   ]
  },
  {
   "cell_type": "code",
   "execution_count": 70,
   "id": "0105a8fe",
   "metadata": {},
   "outputs": [],
   "source": [
    "class Reverse:\n",
    "    def __init__(self, data):\n",
    "        self.data = data\n",
    "        self.index = len(data)\n",
    "\n",
    "    def __iter__(self):\n",
    "        return self\n",
    "\n",
    "    def __next__(self):\n",
    "        if self.index == 0:\n",
    "            raise StopIteration\n",
    "        self.index = self.index - 1\n",
    "        return self.data[self.index]"
   ]
  },
  {
   "cell_type": "code",
   "execution_count": 74,
   "id": "26f5d685",
   "metadata": {},
   "outputs": [
    {
     "data": {
      "text/plain": [
       "<__main__.Reverse at 0x10d00bb50>"
      ]
     },
     "execution_count": 74,
     "metadata": {},
     "output_type": "execute_result"
    }
   ],
   "source": [
    "rev = Reverse('tapioca')\n",
    "iter(rev)"
   ]
  },
  {
   "cell_type": "code",
   "execution_count": 75,
   "id": "34dae1e3",
   "metadata": {},
   "outputs": [
    {
     "name": "stdout",
     "output_type": "stream",
     "text": [
      "a\n",
      "c\n",
      "o\n",
      "i\n",
      "p\n",
      "a\n",
      "t\n"
     ]
    }
   ],
   "source": [
    "for char in rev:\n",
    "    print(char)"
   ]
  },
  {
   "cell_type": "code",
   "execution_count": 6,
   "id": "37ee68b1",
   "metadata": {},
   "outputs": [],
   "source": [
    "class Conta:\n",
    "    def __init__(self, numero, titular, saldo, limite=10000.0):\n",
    "        self.numero = numero\n",
    "        self.titular = titular  \n",
    "        self.saldo = saldo\n",
    "        self.limite = limite\n",
    "\n",
    "    # métodos\n",
    "    def saca(self, valor):\n",
    "        self.saldo -= valor \n",
    "    def deposita(self, valor):\n",
    "        self.saldo += valor "
   ]
  },
  {
   "cell_type": "code",
   "execution_count": 7,
   "id": "8778560e",
   "metadata": {},
   "outputs": [
    {
     "name": "stdout",
     "output_type": "stream",
     "text": [
      "900.0\n"
     ]
    }
   ],
   "source": [
    "minha_conta = Conta('123', 'João', 1000.0, 8000.0)\n",
    "minha_conta.saca(100)\n",
    "print(minha_conta.saldo)"
   ]
  }
 ],
 "metadata": {
  "kernelspec": {
   "display_name": "Python 3 (ipykernel)",
   "language": "python",
   "name": "python3"
  },
  "language_info": {
   "codemirror_mode": {
    "name": "ipython",
    "version": 3
   },
   "file_extension": ".py",
   "mimetype": "text/x-python",
   "name": "python",
   "nbconvert_exporter": "python",
   "pygments_lexer": "ipython3",
   "version": "3.9.6"
  }
 },
 "nbformat": 4,
 "nbformat_minor": 5
}
