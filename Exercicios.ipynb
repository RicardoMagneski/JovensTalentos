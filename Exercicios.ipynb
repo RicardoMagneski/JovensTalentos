{
 "cells": [
  {
   "cell_type": "code",
   "execution_count": 18,
   "metadata": {},
   "outputs": [
    {
     "name": "stdout",
     "output_type": "stream",
     "text": [
      "Valor: 10\n",
      "Sucesso: 11\n",
      "Antecessor: 9\n"
     ]
    }
   ],
   "source": [
    "Valor = input('Informe um Valor!')\n",
    "\n",
    "print('Valor:', Valor)\n",
    "print('Sucesso:', int(Valor) + 1)\n",
    "print('Antecessor:', int(Valor) - 1)\n",
    "\n",
    "#print(type(num1))\n",
    "\n",
    "#print(num1)\n"
   ]
  },
  {
   "cell_type": "code",
   "execution_count": null,
   "metadata": {},
   "outputs": [],
   "source": [
    "Valor1 = input('Informe o Primeiro Valor!')\n",
    "Valor2 = input('Informe o Segundo Valor!')\n",
    "\n",
    "if int(Valor1) > int(Valor2) then\n",
    "'Números iguais'"
   ]
  }
 ],
 "metadata": {
  "kernelspec": {
   "display_name": "env_py",
   "language": "python",
   "name": "python3"
  },
  "language_info": {
   "codemirror_mode": {
    "name": "ipython",
    "version": 3
   },
   "file_extension": ".py",
   "mimetype": "text/x-python",
   "name": "python",
   "nbconvert_exporter": "python",
   "pygments_lexer": "ipython3",
   "version": "3.8.16"
  },
  "orig_nbformat": 4
 },
 "nbformat": 4,
 "nbformat_minor": 2
}
